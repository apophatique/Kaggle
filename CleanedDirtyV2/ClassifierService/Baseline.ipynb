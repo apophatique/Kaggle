{
 "cells": [
  {
   "metadata": {
    "_uuid": "8f2839f25d086af736a60e9eeb907d3b93b6e0e5",
    "_cell_guid": "b1076dfc-b9ad-4769-8c92-a6c4dae69d19",
    "trusted": true,
    "pycharm": {
     "is_executing": false
    }
   },
   "cell_type": "code",
   "source": [
    "# Import, configuration cell\n",
    "\n",
    "import numpy as np # linear algebra\n",
    "import pandas as pd # data processing, CSV file I/O (e.g. pd.read_csv)\n",
    "import matplotlib.pyplot as plt # simple matplotlib interface for data visualization\n",
    "\n",
    "import os # to work with directories\n",
    "import zipfile # to extract images from input .zip file\n",
    "import shutil  # to copy data between folders\n",
    "import sys\n",
    "\n",
    "from tqdm import tqdm # loops progress bar \n",
    "\n",
    "import torch # main machine learning framework\n",
    "import imgaug.augmenters as iaa # image augmentation library\n",
    "import torchvision # image loader, augmentation, neural networks architectures\n",
    "from torchvision import transforms, models\n",
    "\n",
    "\n",
    "# Configuration for the kernel\n",
    "config = {\n",
    "    \"n_train_epoch\": 65,\n",
    "    \"batch_size\": 8,\n",
    "    \"scheduler_use\": False,\n",
    "    \"n_augmentation_repeat\": 8,\n",
    "    \"show_train_progress\": True,\n",
    "    \"show_augmented_images\": True\n",
    "}"
   ],
   "execution_count": 1,
   "outputs": []
  },
  {
   "metadata": {
    "trusted": true,
    "pycharm": {
     "is_executing": false
    }
   },
   "cell_type": "code",
   "source": [
    "# Input data files are available in the \"../input/\" directory.\n",
    "# For example, running this (by clicking run or pressing Shift+Enter) will list the files in the input directory\n",
    "# Any results you write to the current directory are saved as output.\n",
    "\n",
    "print('Contents of the input folder: \\n', \n",
    "      os.listdir(\"input/\"))\n",
    "\n",
    "# Extract all the contents of zip file in current directory\n",
    "with zipfile.ZipFile('input/plates.zip', 'r') as zip_obj:\n",
    "    zip_obj.extractall('data/')\n",
    "    \n",
    "print('After zip extraction: \\n', \n",
    "      os.listdir(\"data/\"))"
   ],
   "execution_count": 6,
   "outputs": [
    {
     "name": "stdout",
     "text": [
      "Contents of the input folder: \n ['plates.zip']\n",
      "After zip extraction: \n ['plates', '__MACOSX']\n"
     ],
     "output_type": "stream"
    }
   ]
  },
  {
   "metadata": {
    "_cell_guid": "79c7e3d0-c299-4dcb-8224-4455121ee9b0",
    "_uuid": "d629ff2d2480ee46fbb7e2d37f6b5fab8052498a",
    "trusted": true,
    "pycharm": {
     "is_executing": false
    }
   },
   "cell_type": "code",
   "source": [
    "data_root = 'data/plates/'\n",
    "train_dir = 'train'\n",
    "val_dir = 'val'\n",
    "\n",
    "class_names = ['cleaned', 'dirty']\n",
    "\n",
    "# Creating 'cleaned' and 'dirty' folders inside the 'train' and 'val' directories\n",
    "for dir_name in [train_dir, val_dir]:\n",
    "    for class_name in class_names:\n",
    "        os.makedirs(os.path.join(dir_name, class_name), exist_ok=True)\n",
    "\n",
    "# Copy images from the 'train' folder to the new 'train' folder considering the labels\n",
    "# Each sixth image goes to validation data\n",
    "for class_name in class_names:\n",
    "    source_dir = os.path.join(data_root, 'train', class_name)\n",
    "    for i, file_name in enumerate(tqdm(sorted(os.listdir(source_dir)))):\n",
    "        dest_dir = os.path.join(train_dir if i%5!=0 else val_dir, class_name)\n",
    "        shutil.copy(os.path.join(source_dir, file_name), \n",
    "                        os.path.join(dest_dir, file_name))"
   ],
   "execution_count": 7,
   "outputs": [
    {
     "name": "stderr",
     "text": [
      "\r  0%|          | 0/21 [00:00<?, ?it/s]",
      "\r100%|██████████| 21/21 [00:00<00:00, 816.46it/s]",
      "\n\r  0%|          | 0/21 [00:00<?, ?it/s]",
      "\r100%|██████████| 21/21 [00:00<00:00, 900.25it/s]",
      "\n"
     ],
     "output_type": "stream"
    }
   ]
  },
  {
   "metadata": {
    "trusted": true,
    "pycharm": {
     "is_executing": false
    }
   },
   "cell_type": "code",
   "source": [
    "!ls train/cleaned\n",
    "sys.exit()"
   ],
   "execution_count": 8,
   "outputs": [
    {
     "name": "stdout",
     "text": [
      "0000.jpg  0002.jpg  0005.jpg  0007.jpg\t0010.jpg  0012.jpg  0015.jpg  0017.jpg\r\n0001.jpg  0003.jpg  0006.jpg  0008.jpg\t0011.jpg  0013.jpg  0016.jpg  0018.jpg\r\n"
     ],
     "output_type": "stream"
    }
   ]
  },
  {
   "metadata": {
    "trusted": true
   },
   "cell_type": "code",
   "source": [
    "# Train augmentation cell with imgaug library.\n",
    "# Unfortunaly, this library doesn't updated on kaggle, so i couldn't use a lot of important functions.\n",
    "# This cell isn't used, but just i just left it here.\n",
    "\n",
    "# random_using(0.45, ...) applies the given augmenter in 45% of all cases.\n",
    "random_using = lambda aug: iaa.Sometimes(0.45, aug)\n",
    "\n",
    "class ImgAugTransform:\n",
    "    def __init__(self):\n",
    "        self.aug = iaa.Sequential(\n",
    "            [\n",
    "                # Apply the following augmenters to most images\n",
    "                random_using(iaa.CropAndPad(percent=(-0.1, 0.3))),\n",
    "                iaa.Fliplr(0.5), # horizontally flip 50% of all images\n",
    "                iaa.Flipud(0.2),  # vertically flip 20% of all images\n",
    "                random_using(iaa.Affine(\n",
    "                    rotate=(-90, 90), # rotate by -90 to +45 degrees\n",
    "                )),\n",
    "                iaa.Add((30, 30)), # change brightness of images (by -30 to 30 of original value) \n",
    "                iaa.AddToHueAndSaturation((-15, 15))               \n",
    "            ], random_order=True)\n",
    "    \n",
    "    def __call__(self, img):\n",
    "        img = np.array(img)\n",
    "        return np.ascontiguousarray(self.aug.augment_image(img))"
   ],
   "execution_count": null,
   "outputs": []
  },
  {
   "metadata": {
    "trusted": true
   },
   "cell_type": "code",
   "source": [
    "train_transforms = transforms.Compose([\n",
    "    #ImgAugTransform(),\n",
    "    transforms.RandomHorizontalFlip(p=0.5),\n",
    "    transforms.RandomVerticalFlip(p=0.35),\n",
    "    transforms.RandomAffine(degrees=(-60, 60)),\n",
    "    transforms.ColorJitter(brightness=(0.7, 1.35), \n",
    "                           contrast=(0.8, 1.4), \n",
    "                           saturation=(0.8, 1.2), \n",
    "                           hue=(-0.1, 0.1)),\n",
    "    transforms.CenterCrop((224,224)),\n",
    "    transforms.ToTensor(),\n",
    "    transforms.Normalize([0.485, 0.456, 0.406], [0.229, 0.224, 0.225])\n",
    "])\n",
    "val_transforms = transforms.Compose([\n",
    "    transforms.Resize((224, 224)),\n",
    "    transforms.RandomVerticalFlip(p=0.5),\n",
    "    transforms.RandomHorizontalFlip(p=0.2),\n",
    "    transforms.ToTensor(),\n",
    "    transforms.Normalize([0.485, 0.456, 0.406], [0.229, 0.224, 0.225])\n",
    "])\n",
    "\n",
    "train_dataset = torch.utils.data.ConcatDataset([\n",
    "     torchvision.datasets.ImageFolder(train_dir, train_transforms)\n",
    "    for _ in range(config['n_augmentation_repeat'])\n",
    "])\n",
    "val_dataset = torchvision.datasets.ImageFolder(val_dir, val_transforms)\n",
    "\n",
    "\n",
    "batch_size = config['batch_size']\n",
    "train_dataloader = torch.utils.data.DataLoader(\n",
    "    train_dataset, batch_size=batch_size, shuffle=True, num_workers=batch_size)\n",
    "val_dataloader = torch.utils.data.DataLoader(\n",
    "    val_dataset, batch_size=batch_size, shuffle=False, num_workers=batch_size)"
   ],
   "execution_count": null,
   "outputs": []
  },
  {
   "metadata": {
    "trusted": true
   },
   "cell_type": "code",
   "source": [
    "def show_input(input_tensor, title=''):\n",
    "    \"\"\"\n",
    "    Function for showing images. \n",
    "        \n",
    "    Keyword arguments:\n",
    "        input_rensor -- one torch.Tensor object\n",
    "        title -- plate type (cleaned or dirty) (default '')\n",
    "    \"\"\"\n",
    "    mean = np.array([0.485, 0.456, 0.406])\n",
    "    std = np.array([0.229, 0.224, 0.225])\n",
    "    image = input_tensor.permute(1, 2, 0).numpy()\n",
    "    image = std * image + mean\n",
    "    plt.imshow(image.clip(0, 1))\n",
    "    plt.title(title)\n",
    "    plt.show()\n",
    "    plt.pause(0.001)"
   ],
   "execution_count": null,
   "outputs": []
  },
  {
   "metadata": {
    "trusted": true
   },
   "cell_type": "code",
   "source": [
    "for X_batch, y_batch in tqdm(train_dataloader): \n",
    "    for x_item, y_item in zip(X_batch, y_batch):\n",
    "        show_input(x_item, title=class_names[y_item])\n",
    "    break"
   ],
   "execution_count": null,
   "outputs": []
  },
  {
   "metadata": {
    "trusted": true
   },
   "cell_type": "code",
   "source": [
    "def train_model(model, loss, optimizer, scheduler, num_epochs):\n",
    "    \"\"\"\n",
    "    Model training function. In range of epochs number it passes 2 phases: training and validation.\n",
    "    If the validation phase, we don't allow the network to change.\n",
    "    \n",
    "    Keyword arguments:\n",
    "    \"\"\"\n",
    "    \n",
    "    global config\n",
    "    statistics = {\n",
    "        'val_loss': [],\n",
    "        'train_loss': [],\n",
    "        'val_acc': [],\n",
    "        'train_acc': []\n",
    "    }\n",
    "    \n",
    "    for epoch in range(num_epochs):\n",
    "        if config['show_train_progress']:\n",
    "            print('Epoch {}/{}:'.format(epoch, num_epochs - 1), flush=True)\n",
    "\n",
    "        # Each epoch has a training and validation phase\n",
    "        for phase in ['train', 'val']:\n",
    "            if phase == 'train':\n",
    "                dataloader = train_dataloader\n",
    "                if config['scheduler_use']:\n",
    "                    scheduler.step()\n",
    "                model.train()  # Set model to training mode\n",
    "            else:\n",
    "                dataloader = val_dataloader\n",
    "                model.eval()   # Set model to evaluate mode\n",
    "\n",
    "            running_loss = 0.\n",
    "            running_acc = 0.\n",
    "\n",
    "            # Iterate over data.\n",
    "            for inputs, labels in tqdm(dataloader):\n",
    "                inputs = inputs.to(device)\n",
    "                labels = labels.to(device)\n",
    "\n",
    "                optimizer.zero_grad()\n",
    "\n",
    "                # forward and backward\n",
    "                with torch.set_grad_enabled(phase == 'train'):\n",
    "                    preds = model(inputs)\n",
    "                    loss_value = loss(preds, labels)\n",
    "                    preds_class = preds.argmax(dim=1)\n",
    "\n",
    "                    # backward + optimize only if in training phase\n",
    "                    if phase == 'train':\n",
    "                        loss_value.backward()\n",
    "                        optimizer.step()\n",
    "\n",
    "                # statistics\n",
    "                running_loss += loss_value.item()\n",
    "                running_acc += (preds_class == labels.data).float().mean()\n",
    "\n",
    "            epoch_loss = running_loss / len(dataloader)\n",
    "            epoch_acc = running_acc / len(dataloader)\n",
    "\n",
    "            if phase == 'train':\n",
    "                statistics['train_loss'].append(epoch_loss)\n",
    "                statistics['train_acc'].append(epoch_acc.item())\n",
    "            else:\n",
    "                statistics['val_loss'].append(epoch_loss)\n",
    "                statistics['val_acc'].append(epoch_acc.item())\n",
    "    \n",
    "            print('{} Loss: {:.4f} Acc: {:.4f}'.format(phase, epoch_loss, epoch_acc), flush=True)\n",
    "\n",
    "    return (model, statistics)"
   ],
   "execution_count": null,
   "outputs": []
  },
  {
   "metadata": {
    "trusted": true
   },
   "cell_type": "code",
   "source": [
    "model = models.mobilenet_v2(pretrained = True)\n",
    "\n",
    "# Disable grad for all conv layers\n",
    "#for param in model.parameters():\n",
    "    #param.requires_grad = False\n",
    "\n",
    "model.classifier[1] = torch.nn.Sequential(\n",
    "    torch.nn.Linear(model.classifier[1].in_features, model.classifier[1].in_features),\n",
    "    torch.nn.ReLU(),\n",
    "    torch.nn.Dropout(p=0.5),\n",
    "\n",
    "    torch.nn.Linear(model.classifier[1].in_features, 2)\n",
    ")\n",
    "\n",
    "device = torch.device(\"cuda:0\" if torch.cuda.is_available() else \"cpu\")\n",
    "model = model.to(device)\n",
    "\n",
    "loss = torch.nn.CrossEntropyLoss()\n",
    "optimizer = torch.optim.SGD(model.parameters(), lr=1.0e-3)\n",
    "\n",
    "# Decay LR by a factor of 0.1 every 7 epochs\n",
    "scheduler = torch.optim.lr_scheduler.StepLR(optimizer, step_size=4, gamma=0.1)"
   ],
   "execution_count": null,
   "outputs": []
  },
  {
   "metadata": {
    "trusted": true
   },
   "cell_type": "code",
   "source": [
    "model, stats = train_model(model, \n",
    "                           loss, \n",
    "                           optimizer, \n",
    "                           scheduler, \n",
    "                           num_epochs=config['n_train_epoch'])"
   ],
   "execution_count": null,
   "outputs": []
  },
  {
   "metadata": {
    "trusted": true
   },
   "cell_type": "code",
   "source": [
    "# Saving the model\n",
    "model_filename = 'model_state_dict.pt'\n",
    "torch.save(model.state_dict(), model_filename)"
   ],
   "execution_count": null,
   "outputs": []
  },
  {
   "metadata": {
    "trusted": true
   },
   "cell_type": "code",
   "source": [
    "plt.figure(figsize=(24, 9))\n",
    "function_names = ['Loss', 'Accuracy']\n",
    "stats_names = iter(list(stats.keys()))\n",
    "  \n",
    "for i in range(2):\n",
    "    ax = plt.subplot(1, 2, i+1)\n",
    "    ax.plot(range(config['n_train_epoch']),\n",
    "            stats[next(stats_names)], \n",
    "            label='Validation', \n",
    "            color='darkorchid', \n",
    "            lw=2.5)\n",
    "    ax.plot(range(config['n_train_epoch']), \n",
    "            stats[next(stats_names)], \n",
    "            label='Training', \n",
    "            color='mediumspringgreen', \n",
    "            lw=2.5)\n",
    "    ax.set_xlabel('Number of training epochs')\n",
    "    ax.set_ylabel(function_names[i] + ' value')\n",
    "    ax.set_title(function_names[i] + ' Functions', fontsize=20)\n",
    "    ax.legend(fontsize=14)"
   ],
   "execution_count": null,
   "outputs": []
  },
  {
   "metadata": {},
   "cell_type": "markdown",
   "source": [
    "##  Little comment\n",
    "\n",
    "Beginning with 35 epoch we can see some overfitting traces. But as practice shows, by reducing the number of epochs to 20-35, we do not achieve an improvement in the model with a 100 percent probability. The model is learning unstable, and I got my best score at 65 epochs, when traces of overfitting appear in the interval of epochs from 18 to 25. But I am sure that by going through the options for training parameters, it would be possible to increase the score even more."
   ],
   "execution_count": null
  },
  {
   "metadata": {
    "trusted": true,
    "pycharm": {
     "is_executing": false
    }
   },
   "cell_type": "code",
   "source": [
    "test_dir = 'test'\n",
    "shutil.copytree(os.path.join(data_root, 'test'), \n",
    "                os.path.join(test_dir, 'unknown'))"
   ],
   "execution_count": 9,
   "outputs": [
    {
     "data": {
      "text/plain": "'test/unknown'"
     },
     "metadata": {},
     "output_type": "execute_result",
     "execution_count": 9
    }
   ]
  },
  {
   "metadata": {
    "trusted": true
   },
   "cell_type": "code",
   "source": [
    "class ImageFolderWithPaths(torchvision.datasets.ImageFolder):\n",
    "    def __getitem__(self, index):\n",
    "        original_tuple = super(ImageFolderWithPaths, self).__getitem__(index)\n",
    "        path = self.imgs[index][0]\n",
    "        tuple_with_path = (original_tuple + (path,))\n",
    "        return tuple_with_path\n",
    "    \n",
    "test_dataset = ImageFolderWithPaths(data_root + 'test', val_transforms)\n",
    "\n",
    "test_dataloader = torch.utils.data.DataLoader(\n",
    "    test_dataset, batch_size=batch_size, shuffle=False, num_workers=0)"
   ],
   "execution_count": null,
   "outputs": []
  },
  {
   "metadata": {
    "trusted": true
   },
   "cell_type": "code",
   "source": [
    "test_dataset"
   ],
   "execution_count": null,
   "outputs": []
  },
  {
   "metadata": {
    "trusted": true
   },
   "cell_type": "code",
   "source": [
    "model.eval()\n",
    "\n",
    "test_predictions = []\n",
    "\n",
    "test_img_paths = []\n",
    "for inputs, labels, paths in tqdm(test_dataloader):\n",
    "    inputs = inputs.to(device)\n",
    "    labels = labels.to(device)\n",
    "    with torch.set_grad_enabled(False):\n",
    "        preds = model(inputs)\n",
    "    test_predictions.append(\n",
    "        torch.nn.functional.softmax(preds, dim=1)[:,1].data.cpu().numpy())\n",
    "    test_img_paths.extend(paths)\n",
    "    \n",
    "test_predictions = np.concatenate(test_predictions)"
   ],
   "execution_count": null,
   "outputs": []
  },
  {
   "metadata": {
    "trusted": true
   },
   "cell_type": "code",
   "source": [
    "for i, (inputs, labels, paths) in enumerate(test_dataloader):\n",
    "    for img, pred in zip(inputs, test_predictions):\n",
    "        show_input(img, title=pred)\n",
    "    if i == 1:\n",
    "        break"
   ],
   "execution_count": null,
   "outputs": []
  },
  {
   "metadata": {
    "trusted": true
   },
   "cell_type": "code",
   "source": [
    "# Creating and postprocessing data to csv file.\n",
    "submission_df = pd.DataFrame.from_dict({'id': test_img_paths, 'label': test_predictions})\n",
    "\n",
    "submission_df['label'] = submission_df['label'].map(lambda pred: 'dirty' if pred > 0.5 else 'cleaned')\n",
    "submission_df['id'] = submission_df['id'].str.replace('/kaggle/working/test/unknown/', '')\n",
    "submission_df['id'] = submission_df['id'].str.replace('.jpg', '')\n",
    "submission_df.set_index('id', inplace=True)\n",
    "submission_df.head(n=20)"
   ],
   "execution_count": null,
   "outputs": []
  },
  {
   "metadata": {
    "trusted": true
   },
   "cell_type": "code",
   "source": [
    "submission_df.to_csv(\"/usr/results/submission.csv\")"
   ],
   "execution_count": null,
   "outputs": []
  },
  {
   "cell_type": "code",
   "execution_count": null,
   "outputs": [],
   "source": [
    "\n"
   ],
   "metadata": {
    "collapsed": false,
    "pycharm": {
     "name": "#%%\n"
    }
   }
  }
 ],
 "metadata": {
  "kernelspec": {
   "language": "python",
   "display_name": "Python 3",
   "name": "python3"
  },
  "language_info": {
   "pygments_lexer": "ipython3",
   "nbconvert_exporter": "python",
   "version": "3.6.4",
   "file_extension": ".py",
   "codemirror_mode": {
    "name": "ipython",
    "version": 3
   },
   "name": "python",
   "mimetype": "text/x-python"
  },
  "pycharm": {
   "stem_cell": {
    "cell_type": "raw",
    "source": [],
    "metadata": {
     "collapsed": false
    }
   }
  }
 },
 "nbformat": 4,
 "nbformat_minor": 4
}